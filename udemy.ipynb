{
 "cells": [
  {
   "cell_type": "markdown",
   "metadata": {},
   "source": [
    "関数内関数"
   ]
  },
  {
   "cell_type": "code",
   "execution_count": 2,
   "metadata": {},
   "outputs": [
    {
     "name": "stdout",
     "output_type": "stream",
     "text": [
      "3\n"
     ]
    }
   ],
   "source": [
    "def outer(a, b):\n",
    "    def plus(c, d):\n",
    "        return c + d\n",
    "    r = plus(a, b)\n",
    "    print(r)\n",
    "    \n",
    "outer(1, 2)"
   ]
  },
  {
   "cell_type": "markdown",
   "metadata": {},
   "source": [
    "クロージャー"
   ]
  },
  {
   "cell_type": "code",
   "execution_count": 4,
   "metadata": {},
   "outputs": [
    {
     "name": "stdout",
     "output_type": "stream",
     "text": [
      "3\n"
     ]
    }
   ],
   "source": [
    "def outer(a, b):\n",
    "    \n",
    "    def inner():\n",
    "        return a + b\n",
    "    \n",
    "    return inner\n",
    "    \n",
    "f = outer(1, 2)\n",
    "r = f()\n",
    "print(r)"
   ]
  },
  {
   "cell_type": "code",
   "execution_count": 3,
   "metadata": {},
   "outputs": [
    {
     "name": "stdout",
     "output_type": "stream",
     "text": [
      "314.0\n",
      "314.1592\n"
     ]
    }
   ],
   "source": [
    "def circle_area_func(pi):\n",
    "    def circle_area(radius):\n",
    "        return pi * radius * radius\n",
    "    \n",
    "    return circle_area\n",
    "\n",
    "ca1 = circle_area_func(3.14)\n",
    "ca2 = circle_area_func(3.141592)\n",
    "\n",
    "print(ca1(10))\n",
    "print(ca2(10))\n"
   ]
  },
  {
   "cell_type": "markdown",
   "metadata": {},
   "source": [
    "デコレーター"
   ]
  },
  {
   "cell_type": "code",
   "execution_count": 5,
   "metadata": {},
   "outputs": [
    {
     "name": "stdout",
     "output_type": "stream",
     "text": [
      "start\n",
      "func: add_num\n",
      "args (10, 20)\n",
      "kwargs {}\n",
      "result 30\n",
      "end\n",
      "30\n"
     ]
    }
   ],
   "source": [
    "def print_more(func):\n",
    "    def wrapper(*args, **kwargs):\n",
    "        print('func:', func.__name__)\n",
    "        print('args', args)\n",
    "        print('kwargs', kwargs)\n",
    "        result = func(*args, **kwargs)\n",
    "        print('result', result)\n",
    "        return result\n",
    "    return wrapper\n",
    "\n",
    "def print_info(func):\n",
    "    def wrapper(*args, **kwargs):\n",
    "        print('start')\n",
    "        result = func(*args, **kwargs)\n",
    "        print('end')\n",
    "        return result\n",
    "    return wrapper\n",
    "\n",
    "@print_info\n",
    "@print_more\n",
    "def add_num(a, b):\n",
    "    return a + b\n",
    "\n",
    "r = add_num(10, 20)\n",
    "print(r)"
   ]
  },
  {
   "cell_type": "markdown",
   "metadata": {},
   "source": [
    "ラムダ"
   ]
  },
  {
   "cell_type": "code",
   "execution_count": 8,
   "metadata": {},
   "outputs": [
    {
     "name": "stdout",
     "output_type": "stream",
     "text": [
      "Mon\n",
      "Tue\n",
      "Wed\n",
      "Thu\n",
      "Fri\n",
      "Sat\n",
      "Sun\n",
      "mon\n",
      "tue\n",
      "wed\n",
      "thu\n",
      "fri\n",
      "sat\n",
      "sun\n"
     ]
    }
   ],
   "source": [
    "l = ['Mon','tue','Wed','Thu','fri','sat','Sun']\n",
    "\n",
    "def change_words(words, func):\n",
    "    for word in words:\n",
    "        print(func(word))        \n",
    "        \n",
    "def sample_func(word):\n",
    "   return word.capitalize()\n",
    "\n",
    "def sample_func(word):\n",
    "   return word.lower()\n",
    "\n",
    "#sample_func = lambda word: word.capitalize()\n",
    "\n",
    "#change_words(l, sample_func)\n",
    "change_words(l,lambda word: word.capitalize())\n",
    "change_words(l,lambda word: word.lower())\n"
   ]
  },
  {
   "cell_type": "markdown",
   "metadata": {},
   "source": [
    "ジェネレーター"
   ]
  },
  {
   "cell_type": "code",
   "execution_count": 11,
   "metadata": {},
   "outputs": [
    {
     "name": "stdout",
     "output_type": "stream",
     "text": [
      "Good morning\n",
      "run\n",
      "run\n",
      "run\n",
      "run\n",
      "run\n",
      "Good arternoon\n",
      "run\n",
      "run\n",
      "run\n",
      "run\n",
      "run\n",
      "Good night\n"
     ]
    }
   ],
   "source": [
    "def counter(num = 10):\n",
    "    for  _ in range(num):\n",
    "        yield 'run'\n",
    "\n",
    "def greeting():\n",
    "    yield 'Good morning'\n",
    "    yield 'Good arternoon'\n",
    "    yield 'Good night'\n",
    "    \n",
    "g = greeting()\n",
    "c = counter()\n",
    "\n",
    "print(next(g))\n",
    "\n",
    "print(next(c))\n",
    "print(next(c))\n",
    "print(next(c))\n",
    "print(next(c))\n",
    "print(next(c))\n",
    "\n",
    "print(next(g))\n",
    "\n",
    "print(next(c))\n",
    "print(next(c))\n",
    "print(next(c))\n",
    "print(next(c))\n",
    "print(next(c))\n",
    "\n",
    "print(next(g))\n"
   ]
  },
  {
   "cell_type": "markdown",
   "metadata": {},
   "source": [
    "リスト内包表記"
   ]
  },
  {
   "cell_type": "code",
   "execution_count": 13,
   "metadata": {},
   "outputs": [
    {
     "name": "stdout",
     "output_type": "stream",
     "text": [
      "[2, 4]\n",
      "[2, 4]\n",
      "[5, 6, 7, 8, 9, 10, 10, 12, 14, 16, 18, 20, 15, 18, 21, 24, 27, 30, 20, 24, 28, 32, 36, 40, 25, 30, 35, 40, 45, 50]\n"
     ]
    }
   ],
   "source": [
    "t = (1,2,3,4,5)\n",
    "t2 = (5,6,7,8,9,10)\n",
    "\n",
    "r = []\n",
    "for i in t:\n",
    "    if i % 2 == 0:\n",
    "        r.append(i)\n",
    "        \n",
    "print(r)\n",
    "\n",
    "r = [i for i in t if i % 2 == 0]\n",
    "print(r)\n",
    "\n",
    "r = []\n",
    "for i in t:\n",
    "    for j in t2:\n",
    "        r.append(i * j)\n",
    "        \n",
    "print(r)\n",
    "\n",
    "r = [i * j for i in t for j in t2]"
   ]
  },
  {
   "cell_type": "markdown",
   "metadata": {},
   "source": [
    "辞書包括表記"
   ]
  },
  {
   "cell_type": "code",
   "execution_count": 14,
   "metadata": {},
   "outputs": [
    {
     "name": "stdout",
     "output_type": "stream",
     "text": [
      "{'mon': 'coffee', 'tue': 'milk', 'wed': 'water'}\n",
      "{'mon': 'coffee', 'tue': 'milk', 'wed': 'water'}\n"
     ]
    }
   ],
   "source": [
    "w = ['mon','tue','wed']\n",
    "f = ['coffee','milk','water']\n",
    "\n",
    "d = {}\n",
    "for x, y in zip(w, f):\n",
    "    d[x] = y\n",
    "print(d)\n",
    "\n",
    "d = {x: y for x, y in zip(w, f)}\n",
    "print(d)"
   ]
  },
  {
   "cell_type": "markdown",
   "metadata": {},
   "source": [
    "集合内包表記"
   ]
  },
  {
   "cell_type": "code",
   "execution_count": 15,
   "metadata": {},
   "outputs": [
    {
     "name": "stdout",
     "output_type": "stream",
     "text": [
      "{0, 2, 4, 6, 8}\n",
      "{0, 2, 4, 6, 8}\n"
     ]
    }
   ],
   "source": [
    "s = set()\n",
    "\n",
    "for i in range(10):\n",
    "    if i % 2 == 0:\n",
    "        s.add(i)\n",
    "print(s)\n",
    "\n",
    "s = {i for i in range(10) if i % 2 == 0}\n",
    "print(s)"
   ]
  },
  {
   "cell_type": "markdown",
   "metadata": {},
   "source": [
    "ジェネレーター内包表記"
   ]
  },
  {
   "cell_type": "code",
   "execution_count": 17,
   "metadata": {},
   "outputs": [
    {
     "name": "stdout",
     "output_type": "stream",
     "text": [
      "0\n",
      "0\n"
     ]
    }
   ],
   "source": [
    "def g():\n",
    "    for i in range(10):\n",
    "        yield i\n",
    "        \n",
    "g = g()\n",
    "print(next(g))\n",
    "\n",
    "g = (i for i in range(10))\n",
    "#g = touple(i for i in range(10)) : toupleで宣言したいとき\n",
    "\n",
    "print(next(g))"
   ]
  },
  {
   "cell_type": "markdown",
   "metadata": {},
   "source": [
    "名前空間とスコープ"
   ]
  },
  {
   "cell_type": "code",
   "execution_count": 18,
   "metadata": {},
   "outputs": [
    {
     "name": "stdout",
     "output_type": "stream",
     "text": [
      "local dog\n",
      "global dog\n"
     ]
    }
   ],
   "source": [
    "animal = 'cat'\n",
    "\n",
    "def f():\n",
    "    global animal\n",
    "    animal = 'dog'\n",
    "    print('local', animal)\n",
    "    \n",
    "f()\n",
    "print('global', animal)"
   ]
  },
  {
   "cell_type": "markdown",
   "metadata": {},
   "source": [
    "例外処理"
   ]
  },
  {
   "cell_type": "code",
   "execution_count": 22,
   "metadata": {},
   "outputs": [
    {
     "name": "stdout",
     "output_type": "stream",
     "text": [
      "done\n",
      "clean up\n"
     ]
    }
   ],
   "source": [
    "l = [1,2,3]\n",
    "i = 5\n",
    "\n",
    "#del l\n",
    "try:\n",
    "    l[i]\n",
    "except IndexError as ex:\n",
    "    print(\"Don't worry\")\n",
    "except NameError as ex:\n",
    "    print(ex)\n",
    "else:#エラーがなかった時\n",
    "    print('done')\n",
    "finally:#エラーが起きても起きなくても実行する\n",
    "    print('clean up') "
   ]
  },
  {
   "cell_type": "markdown",
   "metadata": {},
   "source": [
    "独自例外の作成"
   ]
  },
  {
   "cell_type": "code",
   "execution_count": 24,
   "metadata": {},
   "outputs": [
    {
     "name": "stdout",
     "output_type": "stream",
     "text": [
      "This is my rault. Go next\n"
     ]
    }
   ],
   "source": [
    "class UppercseError(Exception):\n",
    "    pass\n",
    "\n",
    "def check():\n",
    "    words = ['APPLE','orange','banana']\n",
    "    for word in words:\n",
    "        if word.isupper():\n",
    "            raise UppercseError(word)\n",
    "        \n",
    "try:\n",
    "    check()\n",
    "except UppercseError as exc:\n",
    "    print('This is my rault. Go next')"
   ]
  },
  {
   "cell_type": "markdown",
   "metadata": {},
   "source": [
    "import文とas"
   ]
  },
  {
   "cell_type": "code",
   "execution_count": 6,
   "metadata": {},
   "outputs": [
    {
     "name": "stdout",
     "output_type": "stream",
     "text": [
      "hello!hello!\n"
     ]
    }
   ],
   "source": [
    "import lesson_package.tools\n",
    "r = lesson_package.utils.say_twice('hello')\n",
    "print(r)"
   ]
  },
  {
   "cell_type": "code",
   "execution_count": 4,
   "metadata": {},
   "outputs": [
    {
     "name": "stdout",
     "output_type": "stream",
     "text": [
      "hello!hello!\n"
     ]
    }
   ],
   "source": [
    "from lesson_package.tools import say_twice\n",
    "r = say_twice('hello')\n",
    "print(r)"
   ]
  },
  {
   "cell_type": "markdown",
   "metadata": {},
   "source": [
    "絶対パスと相対パスのimport"
   ]
  },
  {
   "cell_type": "code",
   "execution_count": 14,
   "metadata": {},
   "outputs": [
    {
     "name": "stdout",
     "output_type": "stream",
     "text": [
      "sing\n",
      "cry\n"
     ]
    }
   ],
   "source": [
    "from lesson_package.talk import human\n",
    "print(human.sing())\n",
    "print(human.cry())"
   ]
  },
  {
   "cell_type": "markdown",
   "metadata": {},
   "source": [
    "ImportErrorの使い方"
   ]
  },
  {
   "cell_type": "code",
   "execution_count": 18,
   "metadata": {},
   "outputs": [
    {
     "data": {
      "text/plain": [
       "'word!word!'"
      ]
     },
     "execution_count": 18,
     "metadata": {},
     "output_type": "execute_result"
    }
   ],
   "source": [
    "try:\n",
    "    from lesson_package.utils import say_twice\n",
    "except ImportError:\n",
    "    from lesson_package.tools import utils\n",
    "say_twice('word')"
   ]
  }
 ],
 "metadata": {
  "kernelspec": {
   "display_name": "base",
   "language": "python",
   "name": "python3"
  },
  "language_info": {
   "codemirror_mode": {
    "name": "ipython",
    "version": 3
   },
   "file_extension": ".py",
   "mimetype": "text/x-python",
   "name": "python",
   "nbconvert_exporter": "python",
   "pygments_lexer": "ipython3",
   "version": "3.9.13"
  }
 },
 "nbformat": 4,
 "nbformat_minor": 2
}
